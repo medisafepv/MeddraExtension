{
 "cells": [
  {
   "cell_type": "markdown",
   "id": "264a5379-0452-437e-b3cc-752e794bc8d3",
   "metadata": {},
   "source": [
    "# Generate MedDRA Terms\n",
    "\n",
    "Program modes:\n",
    "\n",
    "1. **AE list WHOART indexing**\n",
    "\n",
    "![Mode 1](images/mode1.jpeg)\n",
    "\n",
    " - Required files: \n",
    "    * `AE list.xlsx`\n",
    "    * `WHOART-MedDRA Bridge.xlsx`\n",
    "    * MedDRA_English 폴더 $\\rightarrow$ MedAscii 폴더 $\\rightarrow$ `llt.asc`\n",
    "    * MedDRA_English 폴더 $\\rightarrow$ MedAscii 폴더 $\\rightarrow$ `mdhier.asc`\n",
    " - Effect: `AE list.xlsx`에 있는 WHOART 용어1을 `WHOART-MedDRA Bridge.xlsx`에 매칭한 후, `llt.asc`/`mdhier.asc` 에 있는 MedDRA SOC 및 PT 컬럼을 붙여 놓기.\n",
    "\n",
    "# KR LLT, ENG LLT EXTENSION\n",
    "* Delete mode 2\n",
    "\n",
    "2. **Bridge Extension**\n",
    "\n",
    "![Mode 2](images/mode2.jpeg)\n",
    "\n",
    " - Required files:\n",
    "    * `WHOART-MedDRA Bridge.xlsx`\n",
    "    * MedDRA_English 폴더 $\\rightarrow$ MedAscii 폴더 $\\rightarrow$ `llt.asc`\n",
    "    * MedDRA_English 폴더 $\\rightarrow$ MedAscii 폴더 $\\rightarrow$ `mdhier.asc`\n",
    " - Effect: `WHOART-MedDRA Bridge.xlsx`에 있는 MedDRA LLT을 `llt.asc`/`mdhier.asc` 에 있는 MedDRA SOC 및 PT 컬럼을 붙여 놓기.\n",
    " \n",
    "3. **AE list Extension**\n",
    "\n",
    "![Mode 3](images/mode3.jpeg)\n",
    "\n",
    " - Required files: \n",
    "    * `AE list.xlsx`\n",
    "    * MedDRA_English 폴더 $\\rightarrow$ MedAscii 폴더 $\\rightarrow$ `llt.asc`\n",
    "    * MedDRA_English 폴더 $\\rightarrow$ MedAscii 폴더 $\\rightarrow$ `mdhier.asc`\n",
    " - Effect: `AE list.xlsx`에 있는 MedDRA LLT을 `llt.asc`/`mdhier.asc` 에 있는 MedDRA SOC 및 PT 컬럼을 붙여 놓기."
   ]
  },
  {
   "cell_type": "markdown",
   "id": "62739386-9d5c-47e3-88fc-5190f1600d1d",
   "metadata": {},
   "source": [
    "### Code"
   ]
  },
  {
   "cell_type": "markdown",
   "id": "9d75f4b8-ba94-46f1-a222-454cff0ddead",
   "metadata": {},
   "source": [
    "Cell을 순서대로 선택하고 (오른 마우스 클릭) 파랗게 선택된 상태에 cell을 실행하세요 `Shift` + `Enter`\n",
    "* Cell 옆에 별표 `[*]`은 계산중이나 사용자 입력을 기다리는 뜻을 의미합니다.\n",
    "* 파일을 모두 업로드 해야 진행이 가능합니다. \n",
    "* 파일 업로드 후, `(1)` 표시 확인.\n",
    "* 파일을 다시 업로드하는 경우, cell을 다시 실행 하세요 (1. cell 선택 2. cell 실행 `Shift` + `Enter`)"
   ]
  },
  {
   "cell_type": "code",
   "execution_count": 8,
   "id": "51b0423b-3bd2-448c-82ea-b8c004b5a39c",
   "metadata": {},
   "outputs": [
    {
     "name": "stdout",
     "output_type": "stream",
     "text": [
      "Program modes\n",
      "    (1) AE list WHOART indexing\n",
      "\t    AE list.xlsx <-> WHOART-MedDRA bridge.xlsx <-> MedDRA source folder (llt.asc, mdhier.asc)\n",
      "    (2) Bridge extension\n",
      "\t    Bridge.xlsx <-> MedDRA source folder (llt.asc, mdhier.asc)\n",
      "    (3) AE list extension\n",
      "\t    AE list.xlsx <-> MedDRA source folder (llt.asc, mdhier.asc)\n",
      "    (4) 종료\n"
     ]
    },
    {
     "name": "stdin",
     "output_type": "stream",
     "text": [
      "Select program modes:  3\n"
     ]
    },
    {
     "data": {
      "application/vnd.jupyter.widget-view+json": {
       "model_id": "ac22ddcd46bd4e7dab15ce030b773985",
       "version_major": 2,
       "version_minor": 0
      },
      "text/plain": [
       "FileUpload(value={}, description='llt.asc', layout=Layout(width='250px'))"
      ]
     },
     "metadata": {},
     "output_type": "display_data"
    },
    {
     "data": {
      "application/vnd.jupyter.widget-view+json": {
       "model_id": "a4485759efb446dbadaf10448af0f58a",
       "version_major": 2,
       "version_minor": 0
      },
      "text/plain": [
       "FileUpload(value={}, description='mdhier.asc', layout=Layout(width='250px'))"
      ]
     },
     "metadata": {},
     "output_type": "display_data"
    },
    {
     "data": {
      "application/vnd.jupyter.widget-view+json": {
       "model_id": "d6f87cb748be43a399863b3ce04d9d02",
       "version_major": 2,
       "version_minor": 0
      },
      "text/plain": [
       "FileUpload(value={}, description='AE list', layout=Layout(width='250px'))"
      ]
     },
     "metadata": {},
     "output_type": "display_data"
    }
   ],
   "source": [
    "import main\n",
    "items, mode = main.prompt_modes()"
   ]
  },
  {
   "cell_type": "markdown",
   "id": "3d5e3088-cb3a-4608-8d5e-9f49e4f1d948",
   "metadata": {},
   "source": [
    "에러나 다시 입력해야하는 경우의 패널 중지 (▣)을 누르시고, cell을 다시 실행하세요"
   ]
  },
  {
   "cell_type": "code",
   "execution_count": null,
   "id": "e5b111a4-a89a-42a6-b9d3-f3e65b67a6a0",
   "metadata": {},
   "outputs": [
    {
     "name": "stdout",
     "output_type": "stream",
     "text": [
      "========================================\n",
      "AE list file\n",
      "========================================\n"
     ]
    },
    {
     "name": "stdin",
     "output_type": "stream",
     "text": [
      "'MedDRA LLT Code'이 LLT Code 인지 확인 (y/n):  y\n"
     ]
    },
    {
     "name": "stdout",
     "output_type": "stream",
     "text": [
      "****************************************\n",
      "AE list 파일에서 'KD NO (case number)'을 찾지 못했습니다.\n",
      "AE list 파일 제목:\n",
      "    (0) MedDRA LLT Code\n"
     ]
    }
   ],
   "source": [
    "final = main.control_process(items, mode)\n",
    "final"
   ]
  },
  {
   "cell_type": "markdown",
   "id": "4f6c94d5-650b-48eb-ace3-74ae2b5aef78",
   "metadata": {},
   "source": [
    "파일 내보내기: \n",
    "1. `to_excel(\"파일 이름\")`함수 안에 원하는 파일 이름으로 편집\n",
    "2. Cell을 선택하고 실행 해주세요 (`Shift` + `Enter`).\n",
    "3. 왼쪽 파일 탐색기에서 엑셀 파일이 만들어집니다. 파일에 오른쪽 마우스 클릭 하시고 `download` 옵션을 선택하세요. "
   ]
  },
  {
   "cell_type": "code",
   "execution_count": 3,
   "id": "e80b808e-75df-45f3-baf1-82f755f2b2ca",
   "metadata": {},
   "outputs": [],
   "source": [
    "final.to_excel(\"파일 이름.xlsx\")"
   ]
  },
  {
   "cell_type": "markdown",
   "id": "6fc96551-e1a6-4dff-af72-9af28465ec7c",
   "metadata": {},
   "source": [
    "#### 프로그램 종료: 브라우저 창을 닫은 후, 저장에 대한 메시지가 나타나면 저장 안 함을 클릭하세요"
   ]
  }
 ],
 "metadata": {
  "kernelspec": {
   "display_name": "Python 3 (ipykernel)",
   "language": "python",
   "name": "python3"
  },
  "language_info": {
   "codemirror_mode": {
    "name": "ipython",
    "version": 3
   },
   "file_extension": ".py",
   "mimetype": "text/x-python",
   "name": "python",
   "nbconvert_exporter": "python",
   "pygments_lexer": "ipython3",
   "version": "3.9.12"
  }
 },
 "nbformat": 4,
 "nbformat_minor": 5
}
