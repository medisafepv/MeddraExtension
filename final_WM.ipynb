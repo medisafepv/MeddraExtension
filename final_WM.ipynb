{
 "cells": [
  {
   "cell_type": "markdown",
   "id": "264a5379-0452-437e-b3cc-752e794bc8d3",
   "metadata": {
    "deletable": false,
    "editable": false,
    "tags": []
   },
   "source": [
    "# Generate MedDRA Terms\n",
    "\n",
    "Program modes:\n",
    "\n",
    "1. **WHOART 용어 1 Extension**\n",
    "\n",
    "`AE list.xlsx`에 있는 WHOART 용어1을 `WHOART-MedDRA Bridge.xlsx`에 매칭한 후, `llt.asc`/`mdhier.asc` 에 있는 MedDRA SOC 및 PT 컬럼을 붙여 놓기.\n",
    "\n",
    "![Mode 1](images/mode1.jpeg)\n",
    "\n",
    "Required files: \n",
    "* `AE list.xlsx`\n",
    "* `WHOART-MedDRA Bridge.xlsx`\n",
    "* MedDRA 폴더 $\\rightarrow$ MedAscii 폴더 $\\rightarrow$ `llt.asc`, `mdhier.asc`\n",
    "\n",
    " \n",
    "2. **MedDRA LLT Extension** \n",
    "\n",
    "`AE list.xlsx`에 있는 MedDRA LLT을 `llt.asc`/`mdhier.asc` 에 있는 MedDRA SOC 및 PT 컬럼을 붙여 놓기.\n",
    "\n",
    "![Mode 3](images/mode2.jpeg)\n",
    "\n",
    "Required files:\n",
    "* `AE list.xlsx`\n",
    "    * _LLT Term (english, 한국어, etc.)_\n",
    "* MedDRA 폴더 $\\rightarrow$ MedAscii 폴더 $\\rightarrow$ `llt.asc`, `mdhier.asc`"
   ]
  },
  {
   "cell_type": "markdown",
   "id": "62739386-9d5c-47e3-88fc-5190f1600d1d",
   "metadata": {},
   "source": [
    "### Code"
   ]
  },
  {
   "cell_type": "markdown",
   "id": "9d75f4b8-ba94-46f1-a222-454cff0ddead",
   "metadata": {
    "deletable": false,
    "editable": false,
    "tags": []
   },
   "source": [
    "Cell을 순서대로 선택하고 (오른 마우스 클릭) 파랗게 선택된 상태에 cell을 실행하세요 `Shift` + `Enter`\n",
    "* Cell 옆에 별표 `[*]`은 계산중이나 사용자 입력을 기다리는 뜻을 의미합니다.\n",
    "* 파일을 모두 업로드 해야 진행이 가능합니다. \n",
    "* 파일 업로드 후, `(1)` 표시 확인.\n",
    "* 파일을 다시 업로드하는 경우, cell을 다시 실행 하세요 (1. cell 선택 2. cell 실행 `Shift` + `Enter`)"
   ]
  },
  {
   "cell_type": "code",
   "execution_count": 1,
   "id": "51b0423b-3bd2-448c-82ea-b8c004b5a39c",
   "metadata": {
    "deletable": false,
    "editable": false,
    "tags": []
   },
   "outputs": [
    {
     "name": "stdout",
     "output_type": "stream",
     "text": [
      "Program modes\n",
      "    (1) WHOART 용어 1 Extension\n",
      "\t    AE list.xlsx <-> WHOART-MedDRA bridge.xlsx <-> MedDRA source folder (llt.asc, mdhier.asc)\n",
      "    (2) MedDRA LLT Extension \n",
      "\t    AE list.xlsx <-> MedDRA source folder (llt.asc, mdhier.asc)\n",
      "    (3) 종료\n"
     ]
    },
    {
     "name": "stdin",
     "output_type": "stream",
     "text": [
      "Select program modes:  1\n"
     ]
    },
    {
     "data": {
      "application/vnd.jupyter.widget-view+json": {
       "model_id": "dd66a613764742d0b410d38514214fbf",
       "version_major": 2,
       "version_minor": 0
      },
      "text/plain": [
       "FileUpload(value={}, description='llt.asc', layout=Layout(width='250px'))"
      ]
     },
     "metadata": {},
     "output_type": "display_data"
    },
    {
     "data": {
      "application/vnd.jupyter.widget-view+json": {
       "model_id": "6e594e2e39e94fdea0565354bd1757a5",
       "version_major": 2,
       "version_minor": 0
      },
      "text/plain": [
       "FileUpload(value={}, description='mdhier.asc', layout=Layout(width='250px'))"
      ]
     },
     "metadata": {},
     "output_type": "display_data"
    },
    {
     "data": {
      "application/vnd.jupyter.widget-view+json": {
       "model_id": "74dc931a28f9444d898bfe9e51b1f4dd",
       "version_major": 2,
       "version_minor": 0
      },
      "text/plain": [
       "FileUpload(value={}, description='WHOART-MedDRA bridge (.xlsx)', layout=Layout(width='250px'))"
      ]
     },
     "metadata": {},
     "output_type": "display_data"
    },
    {
     "data": {
      "application/vnd.jupyter.widget-view+json": {
       "model_id": "9ff96ff00e644dc091b699fd4e1f6335",
       "version_major": 2,
       "version_minor": 0
      },
      "text/plain": [
       "FileUpload(value={}, description='AE list (.xlsx)', layout=Layout(width='250px'))"
      ]
     },
     "metadata": {},
     "output_type": "display_data"
    }
   ],
   "source": [
    "import main\n",
    "items, mode = main.prompt_modes()"
   ]
  },
  {
   "cell_type": "markdown",
   "id": "3d5e3088-cb3a-4608-8d5e-9f49e4f1d948",
   "metadata": {
    "deletable": false,
    "editable": false,
    "tags": []
   },
   "source": [
    "에러나 다시 입력해야하는 경우의 패널 중지 (▣)을 누르시고, cell을 다시 실행하세요"
   ]
  },
  {
   "cell_type": "code",
   "execution_count": 4,
   "id": "e5b111a4-a89a-42a6-b9d3-f3e65b67a6a0",
   "metadata": {
    "deletable": false,
    "editable": false,
    "tags": []
   },
   "outputs": [
    {
     "name": "stdout",
     "output_type": "stream",
     "text": [
      "========================================\n",
      "WHOART-MEDRA bridge file\n",
      "========================================\n"
     ]
    },
    {
     "name": "stdin",
     "output_type": "stream",
     "text": [
      "'용어1'이 WHOART 용어1 인지 확인 (y/n):  y\n",
      "'MedDRA LLT Code'이 MedDRA LLT Code 인지 확인 (y/n):  y\n"
     ]
    },
    {
     "name": "stdout",
     "output_type": "stream",
     "text": [
      "========================================\n",
      "AE list file\n",
      "========================================\n"
     ]
    },
    {
     "name": "stdin",
     "output_type": "stream",
     "text": [
      "'KD_NO'이 KD NO (case number) 인지 확인 (y/n):  y\n",
      "'WHOART 용어1'이 WHOART 용어1 인지 확인 (y/n):  y\n"
     ]
    },
    {
     "name": "stdout",
     "output_type": "stream",
     "text": [
      "****************************************\n",
      "WHOART-MEDDRA bridge에 같은 WHOART 용어1로 다른 LLT/SOC을 찾았습니다\n",
      "    (1) 여러 LLT/SOC 다 포함\n",
      "    (2) 직접 선택\n",
      "    (3) 첫번제 LLT/SOC 선택\n",
      "    (4) 종료\n"
     ]
    },
    {
     "name": "stdin",
     "output_type": "stream",
     "text": [
      "Duplicate 처리 방법:  y\n",
      "다시 선택하세요:  3\n"
     ]
    },
    {
     "data": {
      "text/html": [
       "<div>\n",
       "<style scoped>\n",
       "    .dataframe tbody tr th:only-of-type {\n",
       "        vertical-align: middle;\n",
       "    }\n",
       "\n",
       "    .dataframe tbody tr th {\n",
       "        vertical-align: top;\n",
       "    }\n",
       "\n",
       "    .dataframe thead th {\n",
       "        text-align: right;\n",
       "    }\n",
       "</style>\n",
       "<table border=\"1\" class=\"dataframe\">\n",
       "  <thead>\n",
       "    <tr style=\"text-align: right;\">\n",
       "      <th></th>\n",
       "      <th>KD_NO</th>\n",
       "      <th>WHOART 용어1</th>\n",
       "      <th>MedDRA LLT</th>\n",
       "      <th>MedDRA PT</th>\n",
       "      <th>MedDRA SOC</th>\n",
       "    </tr>\n",
       "  </thead>\n",
       "  <tbody>\n",
       "    <tr>\n",
       "      <th>0</th>\n",
       "      <td>405879647</td>\n",
       "      <td>안와부종</td>\n",
       "      <td>Orbital oedema</td>\n",
       "      <td>Orbital oedema</td>\n",
       "      <td>Eye disorders</td>\n",
       "    </tr>\n",
       "    <tr>\n",
       "      <th>1</th>\n",
       "      <td>18669758</td>\n",
       "      <td>무감각</td>\n",
       "      <td>Numbness</td>\n",
       "      <td>Hypoaesthesia</td>\n",
       "      <td>Nervous system disorders</td>\n",
       "    </tr>\n",
       "    <tr>\n",
       "      <th>2</th>\n",
       "      <td>209855542</td>\n",
       "      <td>흐느적거리는몸</td>\n",
       "      <td>Flaccidity</td>\n",
       "      <td>Hypotonia</td>\n",
       "      <td>Nervous system disorders</td>\n",
       "    </tr>\n",
       "    <tr>\n",
       "      <th>3</th>\n",
       "      <td>82637335</td>\n",
       "      <td>두통</td>\n",
       "      <td>Headache</td>\n",
       "      <td>Headache</td>\n",
       "      <td>Nervous system disorders</td>\n",
       "    </tr>\n",
       "    <tr>\n",
       "      <th>4</th>\n",
       "      <td>153748074</td>\n",
       "      <td>두통</td>\n",
       "      <td>Headache</td>\n",
       "      <td>Headache</td>\n",
       "      <td>Nervous system disorders</td>\n",
       "    </tr>\n",
       "    <tr>\n",
       "      <th>...</th>\n",
       "      <td>...</td>\n",
       "      <td>...</td>\n",
       "      <td>...</td>\n",
       "      <td>...</td>\n",
       "      <td>...</td>\n",
       "    </tr>\n",
       "    <tr>\n",
       "      <th>87</th>\n",
       "      <td>403585155</td>\n",
       "      <td>수포</td>\n",
       "      <td>Blisters</td>\n",
       "      <td>Blister</td>\n",
       "      <td>Skin and subcutaneous tissue disorders</td>\n",
       "    </tr>\n",
       "    <tr>\n",
       "      <th>88</th>\n",
       "      <td>182420516</td>\n",
       "      <td>스티븐스-존슨증후군</td>\n",
       "      <td>Stevens Johnson syndrome</td>\n",
       "      <td>Stevens-Johnson syndrome</td>\n",
       "      <td>Skin and subcutaneous tissue disorders</td>\n",
       "    </tr>\n",
       "    <tr>\n",
       "      <th>89</th>\n",
       "      <td>342045561</td>\n",
       "      <td>작열감</td>\n",
       "      <td>Burning skin</td>\n",
       "      <td>Skin burning sensation</td>\n",
       "      <td>Skin and subcutaneous tissue disorders</td>\n",
       "    </tr>\n",
       "    <tr>\n",
       "      <th>90</th>\n",
       "      <td>100045062</td>\n",
       "      <td>딸꾹질</td>\n",
       "      <td>Hiccup</td>\n",
       "      <td>Hiccups</td>\n",
       "      <td>Respiratory, thoracic and mediastinal disorders</td>\n",
       "    </tr>\n",
       "    <tr>\n",
       "      <th>91</th>\n",
       "      <td>20703634</td>\n",
       "      <td>숨참</td>\n",
       "      <td>Breath shortness</td>\n",
       "      <td>Dyspnoea</td>\n",
       "      <td>Respiratory, thoracic and mediastinal disorders</td>\n",
       "    </tr>\n",
       "  </tbody>\n",
       "</table>\n",
       "<p>92 rows × 5 columns</p>\n",
       "</div>"
      ],
      "text/plain": [
       "        KD_NO  WHOART 용어1                MedDRA LLT                 MedDRA PT  \\\n",
       "0   405879647        안와부종            Orbital oedema            Orbital oedema   \n",
       "1    18669758         무감각                  Numbness             Hypoaesthesia   \n",
       "2   209855542     흐느적거리는몸                Flaccidity                 Hypotonia   \n",
       "3    82637335          두통                  Headache                  Headache   \n",
       "4   153748074          두통                  Headache                  Headache   \n",
       "..        ...         ...                       ...                       ...   \n",
       "87  403585155          수포                  Blisters                   Blister   \n",
       "88  182420516  스티븐스-존슨증후군  Stevens Johnson syndrome  Stevens-Johnson syndrome   \n",
       "89  342045561         작열감              Burning skin    Skin burning sensation   \n",
       "90  100045062         딸꾹질                    Hiccup                   Hiccups   \n",
       "91   20703634          숨참          Breath shortness                  Dyspnoea   \n",
       "\n",
       "                                         MedDRA SOC  \n",
       "0                                     Eye disorders  \n",
       "1                          Nervous system disorders  \n",
       "2                          Nervous system disorders  \n",
       "3                          Nervous system disorders  \n",
       "4                          Nervous system disorders  \n",
       "..                                              ...  \n",
       "87           Skin and subcutaneous tissue disorders  \n",
       "88           Skin and subcutaneous tissue disorders  \n",
       "89           Skin and subcutaneous tissue disorders  \n",
       "90  Respiratory, thoracic and mediastinal disorders  \n",
       "91  Respiratory, thoracic and mediastinal disorders  \n",
       "\n",
       "[92 rows x 5 columns]"
      ]
     },
     "execution_count": 4,
     "metadata": {},
     "output_type": "execute_result"
    }
   ],
   "source": [
    "final = main.control_process(items, mode)\n",
    "final"
   ]
  },
  {
   "cell_type": "markdown",
   "id": "4f6c94d5-650b-48eb-ace3-74ae2b5aef78",
   "metadata": {
    "deletable": false,
    "editable": false,
    "tags": []
   },
   "source": [
    "파일 내보내기: \n",
    "1. `to_excel(\"파일 이름\")`함수 안에 원하는 파일 이름으로 편집\n",
    "2. Cell을 선택하고 실행 해주세요 (`Shift` + `Enter`).\n",
    "3. 왼쪽 파일 탐색기에서 엑셀 파일이 만들어집니다. 파일에 오른쪽 마우스 클릭 하시고 `download` 옵션을 선택하세요. "
   ]
  },
  {
   "cell_type": "code",
   "execution_count": 3,
   "id": "e80b808e-75df-45f3-baf1-82f755f2b2ca",
   "metadata": {
    "deletable": false,
    "editable": true,
    "tags": []
   },
   "outputs": [],
   "source": [
    "final.to_excel(\"파일 이름.xlsx\")"
   ]
  },
  {
   "cell_type": "markdown",
   "id": "6fc96551-e1a6-4dff-af72-9af28465ec7c",
   "metadata": {
    "deletable": false,
    "editable": false,
    "tags": []
   },
   "source": [
    "#### 프로그램 종료: 브라우저 창을 닫은 후, 저장에 대한 메시지가 나타나면 저장 안 함을 클릭하세요"
   ]
  }
 ],
 "metadata": {
  "kernelspec": {
   "display_name": "Python 3 (ipykernel)",
   "language": "python",
   "name": "python3"
  },
  "language_info": {
   "codemirror_mode": {
    "name": "ipython",
    "version": 3
   },
   "file_extension": ".py",
   "mimetype": "text/x-python",
   "name": "python",
   "nbconvert_exporter": "python",
   "pygments_lexer": "ipython3",
   "version": "3.9.12"
  },
  "toc-autonumbering": false,
  "toc-showmarkdowntxt": false
 },
 "nbformat": 4,
 "nbformat_minor": 5
}
