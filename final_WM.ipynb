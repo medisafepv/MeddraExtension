{
 "cells": [
  {
   "cell_type": "markdown",
   "id": "264a5379-0452-437e-b3cc-752e794bc8d3",
   "metadata": {
    "deletable": false,
    "editable": false,
    "tags": []
   },
   "source": [
    "# Generate MedDRA Terms\n",
    "\n",
    "Program modes:\n",
    "\n",
    "1. **WHOART 용어 1 Extension**\n",
    "\n",
    "`AE list.xlsx`에 있는 WHOART 용어1을 `WHOART-MedDRA Bridge.xlsx`에 매칭한 후, `llt.asc`/`mdhier.asc` 에 있는 MedDRA SOC 및 PT 컬럼을 붙여 놓기.\n",
    "\n",
    "![Mode 1](images/mode1.jpeg)\n",
    "\n",
    "Required files: \n",
    "* `AE list.xlsx`\n",
    "* `WHOART-MedDRA Bridge.xlsx`\n",
    "* MedDRA 폴더 $\\rightarrow$ MedAscii 폴더 $\\rightarrow$ `llt.asc`, `mdhier.asc`\n",
    "\n",
    " \n",
    "2. **MedDRA LLT Extension** \n",
    "\n",
    "`AE list.xlsx`에 있는 MedDRA LLT을 `llt.asc`/`mdhier.asc` 에 있는 MedDRA SOC 및 PT 컬럼을 붙여 놓기.\n",
    "* 참고 사항: `AE list.xlsx`의 MedDRA LLT Term 언어가 `llt.asc`/`mdhier.asc`의 언어와 동일해야합니다 (예: 한국어, 한국어)\n",
    "\n",
    "![Mode 3](images/mode2.jpeg)\n",
    "\n",
    "Required files:\n",
    "* `AE list.xlsx`\n",
    "    * _LLT Term (english, 한국어, etc.)_\n",
    "* MedDRA 폴더 $\\rightarrow$ MedAscii 폴더 $\\rightarrow$ `llt.asc`, `mdhier.asc`"
   ]
  },
  {
   "cell_type": "markdown",
   "id": "62739386-9d5c-47e3-88fc-5190f1600d1d",
   "metadata": {},
   "source": [
    "### Code"
   ]
  },
  {
   "cell_type": "markdown",
   "id": "9d75f4b8-ba94-46f1-a222-454cff0ddead",
   "metadata": {
    "deletable": false,
    "editable": false,
    "tags": []
   },
   "source": [
    "Cell을 순서대로 선택하고 (오른 마우스 클릭) 파랗게 선택된 상태에 cell을 실행하세요 `Shift` + `Enter`\n",
    "* Cell 옆에 별표 `[*]`은 계산중이나 사용자 입력을 기다리는 뜻을 의미합니다.\n",
    "* 파일을 모두 업로드 해야 진행이 가능합니다. \n",
    "* 파일 업로드 후, `(1)` 표시 확인.\n",
    "* 파일을 다시 업로드하는 경우, cell을 다시 실행 하세요 (1. cell 선택 2. cell 실행 `Shift` + `Enter`)"
   ]
  },
  {
   "cell_type": "code",
   "execution_count": 6,
   "id": "51b0423b-3bd2-448c-82ea-b8c004b5a39c",
   "metadata": {
    "deletable": false,
    "editable": false,
    "tags": []
   },
   "outputs": [
    {
     "name": "stdout",
     "output_type": "stream",
     "text": [
      "Program modes\n",
      "    (1) WHOART 용어 1 Extension\n",
      "\t    AE list.xlsx <-> WHOART-MedDRA bridge.xlsx <-> MedDRA source folder (llt.asc, mdhier.asc)\n",
      "    (2) MedDRA LLT Extension \n",
      "\t    AE list.xlsx <-> MedDRA source folder (llt.asc, mdhier.asc)\n",
      "    (3) 종료\n"
     ]
    },
    {
     "name": "stdin",
     "output_type": "stream",
     "text": [
      "Select program modes:  2\n"
     ]
    },
    {
     "data": {
      "application/vnd.jupyter.widget-view+json": {
       "model_id": "3e179c434d19451bb7ab17aeada8c396",
       "version_major": 2,
       "version_minor": 0
      },
      "text/plain": [
       "FileUpload(value={}, description='llt.asc', layout=Layout(width='250px'))"
      ]
     },
     "metadata": {},
     "output_type": "display_data"
    },
    {
     "data": {
      "application/vnd.jupyter.widget-view+json": {
       "model_id": "cea9ba9fb59b4d449a04f0434e5f1707",
       "version_major": 2,
       "version_minor": 0
      },
      "text/plain": [
       "FileUpload(value={}, description='mdhier.asc', layout=Layout(width='250px'))"
      ]
     },
     "metadata": {},
     "output_type": "display_data"
    },
    {
     "data": {
      "application/vnd.jupyter.widget-view+json": {
       "model_id": "c85ee0087d9a4a6ab1f7be037f8c2665",
       "version_major": 2,
       "version_minor": 0
      },
      "text/plain": [
       "FileUpload(value={}, description='AE list (.xlsx)', layout=Layout(width='250px'))"
      ]
     },
     "metadata": {},
     "output_type": "display_data"
    }
   ],
   "source": [
    "import main\n",
    "items, mode = main.prompt_modes()"
   ]
  },
  {
   "cell_type": "markdown",
   "id": "3d5e3088-cb3a-4608-8d5e-9f49e4f1d948",
   "metadata": {
    "deletable": false,
    "editable": false,
    "tags": []
   },
   "source": [
    "에러나 다시 입력해야하는 경우의 패널 중지 (▣)을 누르시고, cell을 다시 실행하세요"
   ]
  },
  {
   "cell_type": "code",
   "execution_count": 10,
   "id": "e5b111a4-a89a-42a6-b9d3-f3e65b67a6a0",
   "metadata": {
    "deletable": false,
    "editable": false,
    "tags": []
   },
   "outputs": [
    {
     "name": "stdout",
     "output_type": "stream",
     "text": [
      "========================================\n",
      "AE list file\n",
      "========================================\n"
     ]
    },
    {
     "name": "stdin",
     "output_type": "stream",
     "text": [
      "'Primary Key'이 Case number 인지 확인 (y/n):  y\n",
      "'MedDRA LLT (ENG)1'이 LLT Term (언어 주의) 인지 확인 (y/n):  y\n"
     ]
    },
    {
     "name": "stdout",
     "output_type": "stream",
     "text": [
      "****************************************\n",
      "AE list에 해당하는 LLT:\n",
      "    worsening of abdominal aortic aneurysm\n",
      "    worsening anemia\n",
      "    renal function aggravation\n",
      "    worsening acute kidney injury\n",
      "    worsening of inguinal hernia\n",
      "    immune related pneumonitis\n",
      "위 LLT는 MedDRA folder (llt.asc / mdhier.asc)에 없습니다.\n",
      "    (0) 종료\n",
      "    (1) 비슷한 용어 찾고 직접 선택\n",
      "    (2) NaN으로 진행\n",
      "    (3) NaN 삭제\n"
     ]
    },
    {
     "name": "stdin",
     "output_type": "stream",
     "text": [
      ":  1\n",
      "- 유사성 임계값 (0=모두 매치, 1=매치 없음) (추천 0.6):  0.6\n",
      "- 유사 단어의 최대 수 (추천 5):  5\n"
     ]
    },
    {
     "name": "stdout",
     "output_type": "stream",
     "text": [
      "(1/6) MedDRA folder에 'worsening of abdominal aortic aneurysm'랑 비슷한 용어 찾는중...\n",
      "    (0) thoracoabdominal aortic aneurysm\n",
      "    (1) abdominal aortic aneurysm\n",
      "    (2) saccular abdominal aortic aneurysm\n",
      "    (3) penetrating abdominal aortic ulcer\n",
      "    (4) thoracoabdominal aortic aneurysm enlargement\n",
      "    (5) 설정 다시선택하기 (검색 범위 확장)\n"
     ]
    },
    {
     "name": "stdin",
     "output_type": "stream",
     "text": [
      "  'worsening of abdominal aortic aneurysm' ≈  0\n"
     ]
    },
    {
     "name": "stdout",
     "output_type": "stream",
     "text": [
      "(2/6) MedDRA folder에 'worsening anemia'랑 비슷한 용어 찾는중...\n",
      "    (0) renal anemia\n",
      "    (1) uremic anemia\n",
      "    (2) renal anaemia\n",
      "    (3) renin abnormal\n",
      "    (4) organizing pneumonia\n",
      "    (5) 설정 다시선택하기 (검색 범위 확장)\n"
     ]
    },
    {
     "name": "stdin",
     "output_type": "stream",
     "text": [
      "  'worsening anemia' ≈  0\n"
     ]
    },
    {
     "name": "stdout",
     "output_type": "stream",
     "text": [
      "(3/6) MedDRA folder에 'renal function aggravation'랑 비슷한 용어 찾는중...\n",
      "    (0) renal function aggravated\n",
      "    (1) reaction aggravation\n",
      "    (2) hepatic function aggravated\n",
      "    (3) renal function test\n",
      "    (4) urea reduction ratio\n",
      "    (5) 설정 다시선택하기 (검색 범위 확장)\n"
     ]
    },
    {
     "name": "stdin",
     "output_type": "stream",
     "text": [
      "  'renal function aggravation' ≈  0\n"
     ]
    },
    {
     "name": "stdout",
     "output_type": "stream",
     "text": [
      "(4/6) MedDRA folder에 'worsening acute kidney injury'랑 비슷한 용어 찾는중...\n",
      "    (0) acute kidney injury\n",
      "    (1) stage 3 acute kidney injury\n",
      "    (2) stage 2 acute kidney injury\n",
      "    (3) stage 1 acute kidney injury\n",
      "    (4) subacute kidney injury\n",
      "    (5) 설정 다시선택하기 (검색 범위 확장)\n"
     ]
    },
    {
     "name": "stdin",
     "output_type": "stream",
     "text": [
      "  'worsening acute kidney injury' ≈  5\n",
      "- 유사성 임계값 (0=모두 매치, 1=매치 없음) (추천 0.6):  0.8\n",
      "- 유사 단어의 최대 수 (추천 5):  10\n"
     ]
    },
    {
     "name": "stdout",
     "output_type": "stream",
     "text": [
      "(4/6) MedDRA folder에 'worsening acute kidney injury'랑 비슷한 용어 찾는중...검색 결과 없음.\n",
      "(5/6) MedDRA folder에 'worsening of inguinal hernia'랑 비슷한 용어 찾는중...검색 결과 없음.\n",
      "(6/6) MedDRA folder에 'immune related pneumonitis'랑 비슷한 용어 찾는중...\n",
      "    (0) immune-mediated pneumonitis\n",
      "    (1) 설정 다시선택하기 (검색 범위 확장)\n"
     ]
    },
    {
     "name": "stdin",
     "output_type": "stream",
     "text": [
      "  'immune related pneumonitis' ≈  1\n",
      "- 유사성 임계값 (0=모두 매치, 1=매치 없음) (추천 0.6):  0.6\n",
      "- 유사 단어의 최대 수 (추천 5):  10\n"
     ]
    },
    {
     "name": "stdout",
     "output_type": "stream",
     "text": [
      "(6/6) MedDRA folder에 'immune related pneumonitis'랑 비슷한 용어 찾는중...\n",
      "    (0) immune-mediated pneumonitis\n",
      "    (1) immune-mediated neuritis\n",
      "    (2) autoimmune pneumonitis\n",
      "    (3) immune-mediated myositis\n",
      "    (4) immune-mediated synovitis\n",
      "    (5) immune-mediated nephritis\n",
      "    (6) immune-mediated enteritis\n",
      "    (7) immune-mediated pancreatitis\n",
      "    (8) viral pneumonitis\n",
      "    (9) immune-mediated uveitis\n",
      "    (10) 설정 다시선택하기 (검색 범위 확장)\n"
     ]
    },
    {
     "name": "stdin",
     "output_type": "stream",
     "text": [
      "  'immune related pneumonitis' ≈  0\n"
     ]
    },
    {
     "name": "stdout",
     "output_type": "stream",
     "text": [
      "****************************************\n",
      "AE list에 해당하는 LLT:\n",
      "    worsening acute kidney injury\n",
      "    worsening of inguinal hernia\n",
      "위 LLT는 MedDRA folder (llt.asc / mdhier.asc)에 없습니다.\n",
      "    (0) 종료\n",
      "    (1) 비슷한 용어 찾고 직접 선택\n",
      "    (2) NaN으로 진행\n",
      "    (3) NaN 삭제\n"
     ]
    },
    {
     "name": "stdin",
     "output_type": "stream",
     "text": [
      ":  1\n",
      "- 유사성 임계값 (0=모두 매치, 1=매치 없음) (추천 0.6):  0.6\n",
      "- 유사 단어의 최대 수 (추천 5):  10\n"
     ]
    },
    {
     "name": "stdout",
     "output_type": "stream",
     "text": [
      "(1/2) MedDRA folder에 'worsening acute kidney injury'랑 비슷한 용어 찾는중...\n",
      "    (0) acute kidney injury\n",
      "    (1) stage 3 acute kidney injury\n",
      "    (2) stage 2 acute kidney injury\n",
      "    (3) stage 1 acute kidney injury\n",
      "    (4) subacute kidney injury\n",
      "    (5) drug-induced kidney injury\n",
      "    (6) acute kidney failure\n",
      "    (7) acute liver injury\n",
      "    (8) phrenic nerve injury\n",
      "    (9) acute lung injury\n",
      "    (10) 설정 다시선택하기 (검색 범위 확장)\n"
     ]
    },
    {
     "name": "stdin",
     "output_type": "stream",
     "text": [
      "  'worsening acute kidney injury' ≈  0\n"
     ]
    },
    {
     "name": "stdout",
     "output_type": "stream",
     "text": [
      "(2/2) MedDRA folder에 'worsening of inguinal hernia'랑 비슷한 용어 찾는중...\n",
      "    (0) sliding inguinal hernia\n",
      "    (1) right inguinal hernia\n",
      "    (2) left inguinal hernia\n",
      "    (3) congenital inguinal hernia\n",
      "    (4) double inguinal hernia\n",
      "    (5) oblique inguinal hernia\n",
      "    (6) inguinal hernia\n",
      "    (7) worsening of tinnitus\n",
      "    (8) indirect inguinal hernia\n",
      "    (9) direct inguinal hernia\n",
      "    (10) 설정 다시선택하기 (검색 범위 확장)\n"
     ]
    },
    {
     "name": "stdin",
     "output_type": "stream",
     "text": [
      "  'worsening of inguinal hernia' ≈  0\n"
     ]
    },
    {
     "data": {
      "text/html": [
       "<div>\n",
       "<style scoped>\n",
       "    .dataframe tbody tr th:only-of-type {\n",
       "        vertical-align: middle;\n",
       "    }\n",
       "\n",
       "    .dataframe tbody tr th {\n",
       "        vertical-align: top;\n",
       "    }\n",
       "\n",
       "    .dataframe thead th {\n",
       "        text-align: right;\n",
       "    }\n",
       "</style>\n",
       "<table border=\"1\" class=\"dataframe\">\n",
       "  <thead>\n",
       "    <tr style=\"text-align: right;\">\n",
       "      <th></th>\n",
       "      <th>Primary Key</th>\n",
       "      <th>MedDRA LLT</th>\n",
       "      <th>MedDRA PT</th>\n",
       "      <th>MedDRA SOC</th>\n",
       "    </tr>\n",
       "  </thead>\n",
       "  <tbody>\n",
       "    <tr>\n",
       "      <th>0</th>\n",
       "      <td>KR-AstraZeneca-2021A772756</td>\n",
       "      <td>Bone marrow depression</td>\n",
       "      <td>Myelosuppression</td>\n",
       "      <td>Blood and lymphatic system disorders</td>\n",
       "    </tr>\n",
       "    <tr>\n",
       "      <th>1</th>\n",
       "      <td>KR-AstraZeneca-2021A772756</td>\n",
       "      <td>Nausea</td>\n",
       "      <td>Nausea</td>\n",
       "      <td>Gastrointestinal disorders</td>\n",
       "    </tr>\n",
       "    <tr>\n",
       "      <th>2</th>\n",
       "      <td>KR-AstraZeneca-2021A772756</td>\n",
       "      <td>Vomiting</td>\n",
       "      <td>Vomiting</td>\n",
       "      <td>Gastrointestinal disorders</td>\n",
       "    </tr>\n",
       "    <tr>\n",
       "      <th>3</th>\n",
       "      <td>KR-AstraZeneca-2021A772659</td>\n",
       "      <td>Myelosuppression</td>\n",
       "      <td>Myelosuppression</td>\n",
       "      <td>Blood and lymphatic system disorders</td>\n",
       "    </tr>\n",
       "    <tr>\n",
       "      <th>4</th>\n",
       "      <td>KR-AstraZeneca-2021A772659</td>\n",
       "      <td>Vomiting</td>\n",
       "      <td>Vomiting</td>\n",
       "      <td>Gastrointestinal disorders</td>\n",
       "    </tr>\n",
       "    <tr>\n",
       "      <th>5</th>\n",
       "      <td>KR-AstraZeneca-2021A772659</td>\n",
       "      <td>Nausea</td>\n",
       "      <td>Nausea</td>\n",
       "      <td>Gastrointestinal disorders</td>\n",
       "    </tr>\n",
       "    <tr>\n",
       "      <th>6</th>\n",
       "      <td>2021A703842</td>\n",
       "      <td>Dyspepsia</td>\n",
       "      <td>Dyspepsia</td>\n",
       "      <td>Gastrointestinal disorders</td>\n",
       "    </tr>\n",
       "    <tr>\n",
       "      <th>7</th>\n",
       "      <td>2021A703842</td>\n",
       "      <td>Skin rash</td>\n",
       "      <td>Rash</td>\n",
       "      <td>Skin and subcutaneous tissue disorders</td>\n",
       "    </tr>\n",
       "    <tr>\n",
       "      <th>8</th>\n",
       "      <td>2020SE56031</td>\n",
       "      <td>Blood creatinine increased</td>\n",
       "      <td>Blood creatinine increased</td>\n",
       "      <td>Investigations</td>\n",
       "    </tr>\n",
       "    <tr>\n",
       "      <th>9</th>\n",
       "      <td>2020SF12561</td>\n",
       "      <td>Fatigue</td>\n",
       "      <td>Fatigue</td>\n",
       "      <td>General disorders and administration site cond...</td>\n",
       "    </tr>\n",
       "    <tr>\n",
       "      <th>10</th>\n",
       "      <td>KR-AstraZeneca-2021A630770</td>\n",
       "      <td>Vomiting</td>\n",
       "      <td>Vomiting</td>\n",
       "      <td>Gastrointestinal disorders</td>\n",
       "    </tr>\n",
       "    <tr>\n",
       "      <th>11</th>\n",
       "      <td>KR-AstraZeneca-2021A368686</td>\n",
       "      <td>Basal ganglia hemorrhage</td>\n",
       "      <td>Basal ganglia haemorrhage</td>\n",
       "      <td>Nervous system disorders</td>\n",
       "    </tr>\n",
       "    <tr>\n",
       "      <th>12</th>\n",
       "      <td>KR-AstraZeneca-2021A573296</td>\n",
       "      <td>Hemoglobin decreased</td>\n",
       "      <td>Haemoglobin decreased</td>\n",
       "      <td>Investigations</td>\n",
       "    </tr>\n",
       "    <tr>\n",
       "      <th>13</th>\n",
       "      <td>KR-AstraZeneca-2021A573296</td>\n",
       "      <td>Anemia</td>\n",
       "      <td>Anaemia</td>\n",
       "      <td>Blood and lymphatic system disorders</td>\n",
       "    </tr>\n",
       "    <tr>\n",
       "      <th>14</th>\n",
       "      <td>KR-AstraZeneca-2021A571925</td>\n",
       "      <td>Pulmonary thromboembolism</td>\n",
       "      <td>Pulmonary embolism</td>\n",
       "      <td>Respiratory, thoracic and mediastinal disorders</td>\n",
       "    </tr>\n",
       "    <tr>\n",
       "      <th>15</th>\n",
       "      <td>KR-AstraZeneca-2021A525258</td>\n",
       "      <td>Nausea</td>\n",
       "      <td>Nausea</td>\n",
       "      <td>Gastrointestinal disorders</td>\n",
       "    </tr>\n",
       "    <tr>\n",
       "      <th>16</th>\n",
       "      <td>KR-AstraZeneca-2021A525258</td>\n",
       "      <td>Fatigue</td>\n",
       "      <td>Fatigue</td>\n",
       "      <td>General disorders and administration site cond...</td>\n",
       "    </tr>\n",
       "    <tr>\n",
       "      <th>17</th>\n",
       "      <td>KR-AstraZeneca-2020SE02073</td>\n",
       "      <td>Thoracoabdominal aortic aneurysm</td>\n",
       "      <td>Aortic aneurysm</td>\n",
       "      <td>Vascular disorders</td>\n",
       "    </tr>\n",
       "    <tr>\n",
       "      <th>18</th>\n",
       "      <td>KR-AstraZeneca-2020SE05171</td>\n",
       "      <td>Malignant neoplasm progression</td>\n",
       "      <td>Malignant neoplasm progression</td>\n",
       "      <td>Neoplasms benign, malignant and unspecified (i...</td>\n",
       "    </tr>\n",
       "    <tr>\n",
       "      <th>19</th>\n",
       "      <td>KR-AstraZeneca-2020SE25560</td>\n",
       "      <td>AST increased</td>\n",
       "      <td>Aspartate aminotransferase increased</td>\n",
       "      <td>Investigations</td>\n",
       "    </tr>\n",
       "    <tr>\n",
       "      <th>20</th>\n",
       "      <td>KR-AstraZeneca-2020SE38981</td>\n",
       "      <td>Renal anemia</td>\n",
       "      <td>Nephrogenic anaemia</td>\n",
       "      <td>Blood and lymphatic system disorders</td>\n",
       "    </tr>\n",
       "    <tr>\n",
       "      <th>21</th>\n",
       "      <td>KR-AstraZeneca-2020SE38981</td>\n",
       "      <td>Heart failure</td>\n",
       "      <td>Cardiac failure</td>\n",
       "      <td>Cardiac disorders</td>\n",
       "    </tr>\n",
       "    <tr>\n",
       "      <th>22</th>\n",
       "      <td>KR-AstraZeneca-2020SE42263</td>\n",
       "      <td>Urinary tract obstruction</td>\n",
       "      <td>Urinary tract obstruction</td>\n",
       "      <td>Renal and urinary disorders</td>\n",
       "    </tr>\n",
       "    <tr>\n",
       "      <th>23</th>\n",
       "      <td>KR-AstraZeneca-2020SE53027</td>\n",
       "      <td>Urinary tract infection</td>\n",
       "      <td>Urinary tract infection</td>\n",
       "      <td>Infections and infestations</td>\n",
       "    </tr>\n",
       "    <tr>\n",
       "      <th>24</th>\n",
       "      <td>KR-AstraZeneca-2020SE72368</td>\n",
       "      <td>Heart failure</td>\n",
       "      <td>Cardiac failure</td>\n",
       "      <td>Cardiac disorders</td>\n",
       "    </tr>\n",
       "    <tr>\n",
       "      <th>25</th>\n",
       "      <td>KR-AstraZeneca-2020SF38536</td>\n",
       "      <td>Renal function aggravated</td>\n",
       "      <td>Renal impairment</td>\n",
       "      <td>Renal and urinary disorders</td>\n",
       "    </tr>\n",
       "    <tr>\n",
       "      <th>26</th>\n",
       "      <td>KR-AstraZeneca-2020SF75402</td>\n",
       "      <td>Urinary retention</td>\n",
       "      <td>Urinary retention</td>\n",
       "      <td>Renal and urinary disorders</td>\n",
       "    </tr>\n",
       "    <tr>\n",
       "      <th>27</th>\n",
       "      <td>KR-AstraZeneca-2020SF75402</td>\n",
       "      <td>Lymphedema</td>\n",
       "      <td>Lymphoedema</td>\n",
       "      <td>Vascular disorders</td>\n",
       "    </tr>\n",
       "    <tr>\n",
       "      <th>28</th>\n",
       "      <td>KR-AstraZeneca-2021A078008</td>\n",
       "      <td>Chronic periodontitis</td>\n",
       "      <td>Periodontitis</td>\n",
       "      <td>Infections and infestations</td>\n",
       "    </tr>\n",
       "    <tr>\n",
       "      <th>29</th>\n",
       "      <td>KR-AstraZeneca-2021A087729</td>\n",
       "      <td>Acute kidney injury</td>\n",
       "      <td>Acute kidney injury</td>\n",
       "      <td>Renal and urinary disorders</td>\n",
       "    </tr>\n",
       "    <tr>\n",
       "      <th>30</th>\n",
       "      <td>KR-AstraZeneca-2021A585681</td>\n",
       "      <td>Urinary tract infection</td>\n",
       "      <td>Urinary tract infection</td>\n",
       "      <td>Infections and infestations</td>\n",
       "    </tr>\n",
       "    <tr>\n",
       "      <th>31</th>\n",
       "      <td>KR-AstraZeneca-2021A604619</td>\n",
       "      <td>Cellulitis</td>\n",
       "      <td>Cellulitis</td>\n",
       "      <td>Infections and infestations</td>\n",
       "    </tr>\n",
       "    <tr>\n",
       "      <th>32</th>\n",
       "      <td>KR-AstraZeneca-2021A608201</td>\n",
       "      <td>Allergic rhinitis</td>\n",
       "      <td>Rhinitis allergic</td>\n",
       "      <td>Respiratory, thoracic and mediastinal disorders</td>\n",
       "    </tr>\n",
       "    <tr>\n",
       "      <th>33</th>\n",
       "      <td>KR-AstraZeneca-2021A631960</td>\n",
       "      <td>Sliding inguinal hernia</td>\n",
       "      <td>Inguinal hernia</td>\n",
       "      <td>Gastrointestinal disorders</td>\n",
       "    </tr>\n",
       "    <tr>\n",
       "      <th>34</th>\n",
       "      <td>KR-AstraZeneca-2021A635186</td>\n",
       "      <td>Abscess</td>\n",
       "      <td>Abscess</td>\n",
       "      <td>Infections and infestations</td>\n",
       "    </tr>\n",
       "    <tr>\n",
       "      <th>35</th>\n",
       "      <td>KR-AstraZeneca-2021A673274</td>\n",
       "      <td>Headache</td>\n",
       "      <td>Headache</td>\n",
       "      <td>Nervous system disorders</td>\n",
       "    </tr>\n",
       "    <tr>\n",
       "      <th>36</th>\n",
       "      <td>KR-AstraZeneca-2021A709798</td>\n",
       "      <td>Immune-mediated pneumonitis</td>\n",
       "      <td>Immune-mediated lung disease</td>\n",
       "      <td>Respiratory, thoracic and mediastinal disorders</td>\n",
       "    </tr>\n",
       "    <tr>\n",
       "      <th>37</th>\n",
       "      <td>KR-AstraZeneca-2021A719058</td>\n",
       "      <td>Cellulitis</td>\n",
       "      <td>Cellulitis</td>\n",
       "      <td>Infections and infestations</td>\n",
       "    </tr>\n",
       "    <tr>\n",
       "      <th>38</th>\n",
       "      <td>KR-AstraZeneca-2021A784612</td>\n",
       "      <td>Fatigue</td>\n",
       "      <td>Fatigue</td>\n",
       "      <td>General disorders and administration site cond...</td>\n",
       "    </tr>\n",
       "    <tr>\n",
       "      <th>39</th>\n",
       "      <td>KR-AstraZeneca-2021A784915</td>\n",
       "      <td>Fatigue</td>\n",
       "      <td>Fatigue</td>\n",
       "      <td>General disorders and administration site cond...</td>\n",
       "    </tr>\n",
       "    <tr>\n",
       "      <th>40</th>\n",
       "      <td>KR-AstraZeneca-2021A011007</td>\n",
       "      <td>Anemia</td>\n",
       "      <td>Anaemia</td>\n",
       "      <td>Blood and lymphatic system disorders</td>\n",
       "    </tr>\n",
       "    <tr>\n",
       "      <th>41</th>\n",
       "      <td>KR-AstraZeneca-2021A011007</td>\n",
       "      <td>Anemia</td>\n",
       "      <td>Anaemia</td>\n",
       "      <td>Blood and lymphatic system disorders</td>\n",
       "    </tr>\n",
       "    <tr>\n",
       "      <th>42</th>\n",
       "      <td>KR-AstraZeneca-2020SE17840</td>\n",
       "      <td>Anemia</td>\n",
       "      <td>Anaemia</td>\n",
       "      <td>Blood and lymphatic system disorders</td>\n",
       "    </tr>\n",
       "    <tr>\n",
       "      <th>43</th>\n",
       "      <td>KR-AstraZeneca-2021A011031</td>\n",
       "      <td>Anemia</td>\n",
       "      <td>Anaemia</td>\n",
       "      <td>Blood and lymphatic system disorders</td>\n",
       "    </tr>\n",
       "    <tr>\n",
       "      <th>44</th>\n",
       "      <td>KR-AstraZeneca-2021A011064</td>\n",
       "      <td>Anemia</td>\n",
       "      <td>Anaemia</td>\n",
       "      <td>Blood and lymphatic system disorders</td>\n",
       "    </tr>\n",
       "  </tbody>\n",
       "</table>\n",
       "</div>"
      ],
      "text/plain": [
       "                   Primary Key                        MedDRA LLT  \\\n",
       "0   KR-AstraZeneca-2021A772756            Bone marrow depression   \n",
       "1   KR-AstraZeneca-2021A772756                            Nausea   \n",
       "2   KR-AstraZeneca-2021A772756                          Vomiting   \n",
       "3   KR-AstraZeneca-2021A772659                  Myelosuppression   \n",
       "4   KR-AstraZeneca-2021A772659                          Vomiting   \n",
       "5   KR-AstraZeneca-2021A772659                            Nausea   \n",
       "6                  2021A703842                         Dyspepsia   \n",
       "7                  2021A703842                         Skin rash   \n",
       "8                  2020SE56031        Blood creatinine increased   \n",
       "9                  2020SF12561                           Fatigue   \n",
       "10  KR-AstraZeneca-2021A630770                          Vomiting   \n",
       "11  KR-AstraZeneca-2021A368686          Basal ganglia hemorrhage   \n",
       "12  KR-AstraZeneca-2021A573296              Hemoglobin decreased   \n",
       "13  KR-AstraZeneca-2021A573296                            Anemia   \n",
       "14  KR-AstraZeneca-2021A571925         Pulmonary thromboembolism   \n",
       "15  KR-AstraZeneca-2021A525258                            Nausea   \n",
       "16  KR-AstraZeneca-2021A525258                           Fatigue   \n",
       "17  KR-AstraZeneca-2020SE02073  Thoracoabdominal aortic aneurysm   \n",
       "18  KR-AstraZeneca-2020SE05171    Malignant neoplasm progression   \n",
       "19  KR-AstraZeneca-2020SE25560                     AST increased   \n",
       "20  KR-AstraZeneca-2020SE38981                      Renal anemia   \n",
       "21  KR-AstraZeneca-2020SE38981                     Heart failure   \n",
       "22  KR-AstraZeneca-2020SE42263         Urinary tract obstruction   \n",
       "23  KR-AstraZeneca-2020SE53027           Urinary tract infection   \n",
       "24  KR-AstraZeneca-2020SE72368                     Heart failure   \n",
       "25  KR-AstraZeneca-2020SF38536         Renal function aggravated   \n",
       "26  KR-AstraZeneca-2020SF75402                 Urinary retention   \n",
       "27  KR-AstraZeneca-2020SF75402                        Lymphedema   \n",
       "28  KR-AstraZeneca-2021A078008             Chronic periodontitis   \n",
       "29  KR-AstraZeneca-2021A087729               Acute kidney injury   \n",
       "30  KR-AstraZeneca-2021A585681           Urinary tract infection   \n",
       "31  KR-AstraZeneca-2021A604619                        Cellulitis   \n",
       "32  KR-AstraZeneca-2021A608201                 Allergic rhinitis   \n",
       "33  KR-AstraZeneca-2021A631960           Sliding inguinal hernia   \n",
       "34  KR-AstraZeneca-2021A635186                           Abscess   \n",
       "35  KR-AstraZeneca-2021A673274                          Headache   \n",
       "36  KR-AstraZeneca-2021A709798       Immune-mediated pneumonitis   \n",
       "37  KR-AstraZeneca-2021A719058                        Cellulitis   \n",
       "38  KR-AstraZeneca-2021A784612                           Fatigue   \n",
       "39  KR-AstraZeneca-2021A784915                           Fatigue   \n",
       "40  KR-AstraZeneca-2021A011007                            Anemia   \n",
       "41  KR-AstraZeneca-2021A011007                            Anemia   \n",
       "42  KR-AstraZeneca-2020SE17840                            Anemia   \n",
       "43  KR-AstraZeneca-2021A011031                            Anemia   \n",
       "44  KR-AstraZeneca-2021A011064                            Anemia   \n",
       "\n",
       "                               MedDRA PT  \\\n",
       "0                       Myelosuppression   \n",
       "1                                 Nausea   \n",
       "2                               Vomiting   \n",
       "3                       Myelosuppression   \n",
       "4                               Vomiting   \n",
       "5                                 Nausea   \n",
       "6                              Dyspepsia   \n",
       "7                                   Rash   \n",
       "8             Blood creatinine increased   \n",
       "9                                Fatigue   \n",
       "10                              Vomiting   \n",
       "11             Basal ganglia haemorrhage   \n",
       "12                 Haemoglobin decreased   \n",
       "13                               Anaemia   \n",
       "14                    Pulmonary embolism   \n",
       "15                                Nausea   \n",
       "16                               Fatigue   \n",
       "17                       Aortic aneurysm   \n",
       "18        Malignant neoplasm progression   \n",
       "19  Aspartate aminotransferase increased   \n",
       "20                   Nephrogenic anaemia   \n",
       "21                       Cardiac failure   \n",
       "22             Urinary tract obstruction   \n",
       "23               Urinary tract infection   \n",
       "24                       Cardiac failure   \n",
       "25                      Renal impairment   \n",
       "26                     Urinary retention   \n",
       "27                           Lymphoedema   \n",
       "28                         Periodontitis   \n",
       "29                   Acute kidney injury   \n",
       "30               Urinary tract infection   \n",
       "31                            Cellulitis   \n",
       "32                     Rhinitis allergic   \n",
       "33                       Inguinal hernia   \n",
       "34                               Abscess   \n",
       "35                              Headache   \n",
       "36          Immune-mediated lung disease   \n",
       "37                            Cellulitis   \n",
       "38                               Fatigue   \n",
       "39                               Fatigue   \n",
       "40                               Anaemia   \n",
       "41                               Anaemia   \n",
       "42                               Anaemia   \n",
       "43                               Anaemia   \n",
       "44                               Anaemia   \n",
       "\n",
       "                                           MedDRA SOC  \n",
       "0                Blood and lymphatic system disorders  \n",
       "1                          Gastrointestinal disorders  \n",
       "2                          Gastrointestinal disorders  \n",
       "3                Blood and lymphatic system disorders  \n",
       "4                          Gastrointestinal disorders  \n",
       "5                          Gastrointestinal disorders  \n",
       "6                          Gastrointestinal disorders  \n",
       "7              Skin and subcutaneous tissue disorders  \n",
       "8                                      Investigations  \n",
       "9   General disorders and administration site cond...  \n",
       "10                         Gastrointestinal disorders  \n",
       "11                           Nervous system disorders  \n",
       "12                                     Investigations  \n",
       "13               Blood and lymphatic system disorders  \n",
       "14    Respiratory, thoracic and mediastinal disorders  \n",
       "15                         Gastrointestinal disorders  \n",
       "16  General disorders and administration site cond...  \n",
       "17                                 Vascular disorders  \n",
       "18  Neoplasms benign, malignant and unspecified (i...  \n",
       "19                                     Investigations  \n",
       "20               Blood and lymphatic system disorders  \n",
       "21                                  Cardiac disorders  \n",
       "22                        Renal and urinary disorders  \n",
       "23                        Infections and infestations  \n",
       "24                                  Cardiac disorders  \n",
       "25                        Renal and urinary disorders  \n",
       "26                        Renal and urinary disorders  \n",
       "27                                 Vascular disorders  \n",
       "28                        Infections and infestations  \n",
       "29                        Renal and urinary disorders  \n",
       "30                        Infections and infestations  \n",
       "31                        Infections and infestations  \n",
       "32    Respiratory, thoracic and mediastinal disorders  \n",
       "33                         Gastrointestinal disorders  \n",
       "34                        Infections and infestations  \n",
       "35                           Nervous system disorders  \n",
       "36    Respiratory, thoracic and mediastinal disorders  \n",
       "37                        Infections and infestations  \n",
       "38  General disorders and administration site cond...  \n",
       "39  General disorders and administration site cond...  \n",
       "40               Blood and lymphatic system disorders  \n",
       "41               Blood and lymphatic system disorders  \n",
       "42               Blood and lymphatic system disorders  \n",
       "43               Blood and lymphatic system disorders  \n",
       "44               Blood and lymphatic system disorders  "
      ]
     },
     "execution_count": 10,
     "metadata": {},
     "output_type": "execute_result"
    }
   ],
   "source": [
    "final = main.control_process(items, mode)\n",
    "final"
   ]
  },
  {
   "cell_type": "markdown",
   "id": "4f6c94d5-650b-48eb-ace3-74ae2b5aef78",
   "metadata": {
    "deletable": false,
    "editable": false,
    "tags": []
   },
   "source": [
    "파일 내보내기: \n",
    "1. `to_excel(\"파일 이름\")`함수 안에 원하는 파일 이름으로 편집 (끝에 \".xlsx\"은 필수).\n",
    "2. Cell을 선택하고 실행 해주세요 (`Shift` + `Enter`).\n",
    "3. 왼쪽 파일 탐색기에서 엑셀 파일이 만들어집니다. 파일에 오른쪽 마우스 클릭 하시고 `download` 옵션을 선택하세요. "
   ]
  },
  {
   "cell_type": "code",
   "execution_count": 3,
   "id": "e80b808e-75df-45f3-baf1-82f755f2b2ca",
   "metadata": {
    "deletable": false,
    "editable": true,
    "tags": []
   },
   "outputs": [],
   "source": [
    "final.to_excel(\"파일 이름.xlsx\")"
   ]
  },
  {
   "cell_type": "markdown",
   "id": "6fc96551-e1a6-4dff-af72-9af28465ec7c",
   "metadata": {
    "deletable": false,
    "editable": false,
    "tags": []
   },
   "source": [
    "#### 프로그램 종료: 브라우저 창을 닫은 후, 저장에 대한 메시지가 나타나면 저장 안 함을 클릭하세요"
   ]
  }
 ],
 "metadata": {
  "kernelspec": {
   "display_name": "Python 3 (ipykernel)",
   "language": "python",
   "name": "python3"
  },
  "language_info": {
   "codemirror_mode": {
    "name": "ipython",
    "version": 3
   },
   "file_extension": ".py",
   "mimetype": "text/x-python",
   "name": "python",
   "nbconvert_exporter": "python",
   "pygments_lexer": "ipython3",
   "version": "3.9.12"
  },
  "toc-autonumbering": false,
  "toc-showmarkdowntxt": false
 },
 "nbformat": 4,
 "nbformat_minor": 5
}
