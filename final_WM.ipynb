{
 "cells": [
  {
   "cell_type": "markdown",
   "id": "264a5379-0452-437e-b3cc-752e794bc8d3",
   "metadata": {
    "deletable": false,
    "editable": false,
    "tags": []
   },
   "source": [
    "# Generate MedDRA Terms\n",
    "\n",
    "Program modes:\n",
    "\n",
    "1. **WHOART 용어 1 Extension**\n",
    "\n",
    "`AE list.xlsx`에 있는 WHOART 용어1을 `WHOART-MedDRA Bridge.xlsx`에 매칭한 후, `llt.asc`/`mdhier.asc` 에 있는 MedDRA SOC 및 PT 컬럼을 붙여 놓기.\n",
    "\n",
    "![Mode 1](images/mode1.jpeg)\n",
    "\n",
    "Required files: \n",
    "* `AE list.xlsx`\n",
    "* `WHOART-MedDRA Bridge.xlsx`\n",
    "* MedDRA 폴더 $\\rightarrow$ MedAscii 폴더 $\\rightarrow$ `llt.asc`, `mdhier.asc`\n",
    "\n",
    " \n",
    "2. **MedDRA LLT Extension** \n",
    "\n",
    "`AE list.xlsx`에 있는 MedDRA LLT을 `llt.asc`/`mdhier.asc` 에 있는 MedDRA SOC 및 PT 컬럼을 붙여 놓기.\n",
    "* 참고 사항: `AE list.xlsx`의 MedDRA LLT Term 언어가 `llt.asc`/`mdhier.asc`의 언어와 동일해야합니다 (예: 한국어, 한국어)\n",
    "\n",
    "![Mode 3](images/mode2.jpeg)\n",
    "\n",
    "Required files:\n",
    "* `AE list.xlsx`\n",
    "    * _LLT Term (english, 한국어, etc.)_\n",
    "* MedDRA 폴더 $\\rightarrow$ MedAscii 폴더 $\\rightarrow$ `llt.asc`, `mdhier.asc`"
   ]
  },
  {
   "cell_type": "markdown",
   "id": "62739386-9d5c-47e3-88fc-5190f1600d1d",
   "metadata": {},
   "source": [
    "### Code"
   ]
  },
  {
   "cell_type": "markdown",
   "id": "9d75f4b8-ba94-46f1-a222-454cff0ddead",
   "metadata": {
    "deletable": false,
    "editable": false,
    "tags": []
   },
   "source": [
    "Cell을 순서대로 선택하고 (오른 마우스 클릭) 파랗게 선택된 상태에 cell을 실행하세요 `Shift` + `Enter`\n",
    "* Cell 옆에 별표 `[*]`은 계산중이나 사용자 입력을 기다리는 뜻을 의미합니다.\n",
    "* 파일을 모두 업로드 해야 진행이 가능합니다. \n",
    "* 파일 업로드 후, `(1)` 표시 확인.\n",
    "* 파일을 다시 업로드하는 경우, cell을 다시 실행 하세요 (1. cell 선택 2. cell 실행 `Shift` + `Enter`)"
   ]
  },
  {
   "cell_type": "code",
   "execution_count": 1,
   "id": "51b0423b-3bd2-448c-82ea-b8c004b5a39c",
   "metadata": {
    "deletable": false,
    "editable": false,
    "tags": []
   },
   "outputs": [
    {
     "name": "stdout",
     "output_type": "stream",
     "text": [
      "Program modes\n",
      "    (1) WHOART 용어 1 Extension\n",
      "\t    AE list.xlsx <-> WHOART-MedDRA bridge.xlsx <-> MedDRA source folder (llt.asc, mdhier.asc)\n",
      "    (2) MedDRA LLT Extension \n",
      "\t    AE list.xlsx <-> MedDRA source folder (llt.asc, mdhier.asc)\n",
      "    (3) 종료\n"
     ]
    },
    {
     "name": "stdin",
     "output_type": "stream",
     "text": [
      "Select program modes:  2\n"
     ]
    },
    {
     "data": {
      "application/vnd.jupyter.widget-view+json": {
       "model_id": "7a7969ec0ea7492681488618a97593ee",
       "version_major": 2,
       "version_minor": 0
      },
      "text/plain": [
       "FileUpload(value=(), description='llt.asc', layout=Layout(width='250px'))"
      ]
     },
     "metadata": {},
     "output_type": "display_data"
    },
    {
     "data": {
      "application/vnd.jupyter.widget-view+json": {
       "model_id": "d194f933baac4de9aa958cb57675a53b",
       "version_major": 2,
       "version_minor": 0
      },
      "text/plain": [
       "FileUpload(value=(), description='mdhier.asc', layout=Layout(width='250px'))"
      ]
     },
     "metadata": {},
     "output_type": "display_data"
    },
    {
     "data": {
      "application/vnd.jupyter.widget-view+json": {
       "model_id": "e90e74aa595d4bc0a9d4422a50cea415",
       "version_major": 2,
       "version_minor": 0
      },
      "text/plain": [
       "FileUpload(value=(), description='AE list (.xlsx)', layout=Layout(width='250px'))"
      ]
     },
     "metadata": {},
     "output_type": "display_data"
    }
   ],
   "source": [
    "import main\n",
    "items, mode = main.prompt_modes()"
   ]
  },
  {
   "cell_type": "markdown",
   "id": "3d5e3088-cb3a-4608-8d5e-9f49e4f1d948",
   "metadata": {
    "deletable": false,
    "editable": false,
    "tags": []
   },
   "source": [
    "에러나 다시 입력해야하는 경우의 패널 중지 (▣)을 누르시고, cell을 다시 실행하세요"
   ]
  },
  {
   "cell_type": "code",
   "execution_count": 2,
   "id": "e5b111a4-a89a-42a6-b9d3-f3e65b67a6a0",
   "metadata": {
    "deletable": false,
    "editable": false,
    "tags": []
   },
   "outputs": [
    {
     "name": "stdout",
     "output_type": "stream",
     "text": [
      "========================================\n",
      "AE list file\n",
      "========================================\n"
     ]
    },
    {
     "name": "stdin",
     "output_type": "stream",
     "text": [
      "'CASE_NO'이 Case number 인지 확인 (y/n):  y\n",
      "'MEDDRA_LLT'이 LLT Term (언어 주의) 인지 확인 (y/n):  y\n"
     ]
    },
    {
     "data": {
      "text/html": [
       "<div>\n",
       "<style scoped>\n",
       "    .dataframe tbody tr th:only-of-type {\n",
       "        vertical-align: middle;\n",
       "    }\n",
       "\n",
       "    .dataframe tbody tr th {\n",
       "        vertical-align: top;\n",
       "    }\n",
       "\n",
       "    .dataframe thead th {\n",
       "        text-align: right;\n",
       "    }\n",
       "</style>\n",
       "<table border=\"1\" class=\"dataframe\">\n",
       "  <thead>\n",
       "    <tr style=\"text-align: right;\">\n",
       "      <th></th>\n",
       "      <th>CASE_NO</th>\n",
       "      <th>MedDRA LLT</th>\n",
       "      <th>MedDRA PT</th>\n",
       "      <th>MedDRA SOC</th>\n",
       "    </tr>\n",
       "  </thead>\n",
       "  <tbody>\n",
       "    <tr>\n",
       "      <th>0</th>\n",
       "      <td>169706079</td>\n",
       "      <td>Nausea</td>\n",
       "      <td>Nausea</td>\n",
       "      <td>Gastrointestinal disorders</td>\n",
       "    </tr>\n",
       "    <tr>\n",
       "      <th>1</th>\n",
       "      <td>169706079</td>\n",
       "      <td>Vomiting</td>\n",
       "      <td>Vomiting</td>\n",
       "      <td>Gastrointestinal disorders</td>\n",
       "    </tr>\n",
       "    <tr>\n",
       "      <th>2</th>\n",
       "      <td>223210231</td>\n",
       "      <td>Chest discomfort</td>\n",
       "      <td>Chest discomfort</td>\n",
       "      <td>General disorders and administration site cond...</td>\n",
       "    </tr>\n",
       "    <tr>\n",
       "      <th>3</th>\n",
       "      <td>223210231</td>\n",
       "      <td>Nausea</td>\n",
       "      <td>Nausea</td>\n",
       "      <td>Gastrointestinal disorders</td>\n",
       "    </tr>\n",
       "    <tr>\n",
       "      <th>4</th>\n",
       "      <td>223210231</td>\n",
       "      <td>Headache</td>\n",
       "      <td>Headache</td>\n",
       "      <td>Nervous system disorders</td>\n",
       "    </tr>\n",
       "    <tr>\n",
       "      <th>...</th>\n",
       "      <td>...</td>\n",
       "      <td>...</td>\n",
       "      <td>...</td>\n",
       "      <td>...</td>\n",
       "    </tr>\n",
       "    <tr>\n",
       "      <th>286</th>\n",
       "      <td>9838254657</td>\n",
       "      <td>Nausea</td>\n",
       "      <td>Nausea</td>\n",
       "      <td>Gastrointestinal disorders</td>\n",
       "    </tr>\n",
       "    <tr>\n",
       "      <th>287</th>\n",
       "      <td>9838254657</td>\n",
       "      <td>Dizziness</td>\n",
       "      <td>Dizziness</td>\n",
       "      <td>Nervous system disorders</td>\n",
       "    </tr>\n",
       "    <tr>\n",
       "      <th>288</th>\n",
       "      <td>9839391899</td>\n",
       "      <td>Nausea</td>\n",
       "      <td>Nausea</td>\n",
       "      <td>Gastrointestinal disorders</td>\n",
       "    </tr>\n",
       "    <tr>\n",
       "      <th>289</th>\n",
       "      <td>9839391899</td>\n",
       "      <td>Vomiting</td>\n",
       "      <td>Vomiting</td>\n",
       "      <td>Gastrointestinal disorders</td>\n",
       "    </tr>\n",
       "    <tr>\n",
       "      <th>290</th>\n",
       "      <td>9864703752</td>\n",
       "      <td>Somnolence</td>\n",
       "      <td>Somnolence</td>\n",
       "      <td>Nervous system disorders</td>\n",
       "    </tr>\n",
       "  </tbody>\n",
       "</table>\n",
       "<p>291 rows × 4 columns</p>\n",
       "</div>"
      ],
      "text/plain": [
       "        CASE_NO        MedDRA LLT         MedDRA PT  \\\n",
       "0     169706079            Nausea            Nausea   \n",
       "1     169706079          Vomiting          Vomiting   \n",
       "2     223210231  Chest discomfort  Chest discomfort   \n",
       "3     223210231            Nausea            Nausea   \n",
       "4     223210231          Headache          Headache   \n",
       "..          ...               ...               ...   \n",
       "286  9838254657            Nausea            Nausea   \n",
       "287  9838254657         Dizziness         Dizziness   \n",
       "288  9839391899            Nausea            Nausea   \n",
       "289  9839391899          Vomiting          Vomiting   \n",
       "290  9864703752        Somnolence        Somnolence   \n",
       "\n",
       "                                            MedDRA SOC  \n",
       "0                           Gastrointestinal disorders  \n",
       "1                           Gastrointestinal disorders  \n",
       "2    General disorders and administration site cond...  \n",
       "3                           Gastrointestinal disorders  \n",
       "4                             Nervous system disorders  \n",
       "..                                                 ...  \n",
       "286                         Gastrointestinal disorders  \n",
       "287                           Nervous system disorders  \n",
       "288                         Gastrointestinal disorders  \n",
       "289                         Gastrointestinal disorders  \n",
       "290                           Nervous system disorders  \n",
       "\n",
       "[291 rows x 4 columns]"
      ]
     },
     "execution_count": 2,
     "metadata": {},
     "output_type": "execute_result"
    }
   ],
   "source": [
    "final = main.control_process(items, mode)\n",
    "final"
   ]
  },
  {
   "cell_type": "markdown",
   "id": "4f6c94d5-650b-48eb-ace3-74ae2b5aef78",
   "metadata": {
    "deletable": false,
    "editable": false,
    "tags": []
   },
   "source": [
    "파일 내보내기: \n",
    "1. `to_excel(\"파일 이름\")`함수 안에 원하는 파일 이름으로 편집 (끝에 \".xlsx\"은 필수).\n",
    "2. Cell을 선택하고 실행 해주세요 (`Shift` + `Enter`).\n",
    "3. 왼쪽 파일 탐색기에서 엑셀 파일이 만들어집니다. 파일에 오른쪽 마우스 클릭 하시고 `download` 옵션을 선택하세요. "
   ]
  },
  {
   "cell_type": "code",
   "execution_count": 3,
   "id": "e80b808e-75df-45f3-baf1-82f755f2b2ca",
   "metadata": {
    "deletable": false,
    "editable": true,
    "tags": []
   },
   "outputs": [],
   "source": [
    "final.to_excel(\"파일 이름.xlsx\")"
   ]
  },
  {
   "cell_type": "markdown",
   "id": "6fc96551-e1a6-4dff-af72-9af28465ec7c",
   "metadata": {
    "deletable": false,
    "editable": false,
    "tags": []
   },
   "source": [
    "#### 프로그램 종료: 브라우저 창을 닫은 후, 저장에 대한 메시지가 나타나면 저장 안 함을 클릭하세요"
   ]
  }
 ],
 "metadata": {
  "kernelspec": {
   "display_name": "Python 3 (ipykernel)",
   "language": "python",
   "name": "python3"
  },
  "language_info": {
   "codemirror_mode": {
    "name": "ipython",
    "version": 3
   },
   "file_extension": ".py",
   "mimetype": "text/x-python",
   "name": "python",
   "nbconvert_exporter": "python",
   "pygments_lexer": "ipython3",
   "version": "3.11.0"
  },
  "toc-autonumbering": false,
  "toc-showmarkdowntxt": false
 },
 "nbformat": 4,
 "nbformat_minor": 5
}
